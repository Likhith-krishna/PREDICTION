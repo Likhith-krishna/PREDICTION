{
 "cells": [
  {
   "cell_type": "code",
   "execution_count": 1,
   "metadata": {},
   "outputs": [],
   "source": [
    "#importing all the libraries that are required\n",
    "import numpy as np\n",
    "import pandas as pd"
   ]
  },
  {
   "cell_type": "code",
   "execution_count": 2,
   "metadata": {},
   "outputs": [],
   "source": [
    "#fixing warnings with the below functions\n",
    "import warnings\n",
    "\n",
    "def fxn():\n",
    "    warnings.warn(\"deprecated\", DeprecationWarning)\n",
    "\n",
    "with warnings.catch_warnings():\n",
    "    warnings.simplefilter(\"ignore\")\n",
    "    fxn()\n",
    "    \n",
    "import warnings\n",
    "warnings.filterwarnings(\"ignore\")"
   ]
  },
  {
   "cell_type": "code",
   "execution_count": 5,
   "metadata": {},
   "outputs": [
    {
     "name": "stdout",
     "output_type": "stream",
     "text": [
      "Requirement already satisfied: pydotplus in c:\\users\\sree\\anaconda3\\lib\\site-packages (2.0.2)\n",
      "Requirement already satisfied: pyparsing>=2.0.1 in c:\\users\\sree\\anaconda3\\lib\\site-packages (from pydotplus) (2.4.0)\n",
      "Collecting tabulate\n",
      "  Downloading https://files.pythonhosted.org/packages/c4/f4/770ae9385990f5a19a91431163d262182d3203662ea2b5739d0fcfc080f1/tabulate-0.8.7-py3-none-any.whl\n",
      "Installing collected packages: tabulate\n",
      "Successfully installed tabulate-0.8.7\n"
     ]
    }
   ],
   "source": [
    "#installing packages for tabulating the columns\n",
    "!pip install pydotplus\n",
    "!pip install tabulate\n",
    "import matplotlib.pyplot as plt   \n",
    "from pydotplus import graph_from_dot_data\n",
    "from IPython.display import Image  \n",
    "import seaborn as sns\n",
    "from IPython.display import HTML, display\n",
    "import tabulate"
   ]
  },
  {
   "cell_type": "code",
   "execution_count": 6,
   "metadata": {},
   "outputs": [],
   "source": [
    "from imblearn import under_sampling, over_sampling\n",
    "from imblearn.over_sampling import SMOTE\n",
    "from imblearn.under_sampling import RandomUnderSampler"
   ]
  },
  {
   "cell_type": "code",
   "execution_count": 7,
   "metadata": {},
   "outputs": [],
   "source": [
    "#sklearn for scientific calculations\n",
    "from sklearn.preprocessing import StandardScaler\n",
    "from sklearn.decomposition import PCA"
   ]
  },
  {
   "cell_type": "code",
   "execution_count": 8,
   "metadata": {},
   "outputs": [],
   "source": [
    "from sklearn.model_selection import KFold\n",
    "from sklearn.model_selection import cross_val_score"
   ]
  },
  {
   "cell_type": "code",
   "execution_count": 9,
   "metadata": {},
   "outputs": [],
   "source": [
    "#decision tree classifier for decision tree\n",
    "from sklearn.tree import DecisionTreeClassifier \n",
    "from sklearn.tree import export_graphviz\n",
    "from sklearn.ensemble import RandomForestRegressor"
   ]
  },
  {
   "cell_type": "code",
   "execution_count": 18,
   "metadata": {},
   "outputs": [],
   "source": [
    "#kmean clustering formation\n",
    "from sklearn.neighbors import KNeighborsClassifier"
   ]
  },
  {
   "cell_type": "code",
   "execution_count": 19,
   "metadata": {},
   "outputs": [],
   "source": [
    "#implementing logistic regression\n",
    "from sklearn.preprocessing import LabelEncoder\n",
    "from sklearn.linear_model import LogisticRegression"
   ]
  },
  {
   "cell_type": "markdown",
   "metadata": {},
   "source": [
    "DATA PREPROCESSING"
   ]
  },
  {
   "cell_type": "code",
   "execution_count": 22,
   "metadata": {},
   "outputs": [
    {
     "data": {
      "text/html": [
       "<div>\n",
       "<style scoped>\n",
       "    .dataframe tbody tr th:only-of-type {\n",
       "        vertical-align: middle;\n",
       "    }\n",
       "\n",
       "    .dataframe tbody tr th {\n",
       "        vertical-align: top;\n",
       "    }\n",
       "\n",
       "    .dataframe thead th {\n",
       "        text-align: right;\n",
       "    }\n",
       "</style>\n",
       "<table border=\"1\" class=\"dataframe\">\n",
       "  <thead>\n",
       "    <tr style=\"text-align: right;\">\n",
       "      <th></th>\n",
       "      <th>Reference Number</th>\n",
       "      <th>Grid Ref: Easting</th>\n",
       "      <th>Grid Ref: Northing</th>\n",
       "      <th>Number of Vehicles</th>\n",
       "      <th>Expr1</th>\n",
       "      <th>Accident Date</th>\n",
       "      <th>Day</th>\n",
       "      <th>Time (24hr)</th>\n",
       "      <th>1st Road Class</th>\n",
       "      <th>Road Surface</th>\n",
       "      <th>Lighting Conditions</th>\n",
       "      <th>Weather Conditions</th>\n",
       "      <th>Casualty Class</th>\n",
       "      <th>Casualty Severity</th>\n",
       "      <th>Sex of Casualty</th>\n",
       "      <th>Age of Casualty</th>\n",
       "      <th>Type of Vehicle</th>\n",
       "    </tr>\n",
       "  </thead>\n",
       "  <tbody>\n",
       "    <tr>\n",
       "      <th>0</th>\n",
       "      <td>12N1424</td>\n",
       "      <td>435232</td>\n",
       "      <td>427614</td>\n",
       "      <td>1</td>\n",
       "      <td>NaN</td>\n",
       "      <td>23/02/2014</td>\n",
       "      <td>Sunday</td>\n",
       "      <td>1840</td>\n",
       "      <td>Unclassified</td>\n",
       "      <td>Dry</td>\n",
       "      <td>Darkness no street lighting</td>\n",
       "      <td>Fine without high winds</td>\n",
       "      <td>Driver</td>\n",
       "      <td>Serious</td>\n",
       "      <td>Male</td>\n",
       "      <td>19</td>\n",
       "      <td>Car</td>\n",
       "    </tr>\n",
       "    <tr>\n",
       "      <th>1</th>\n",
       "      <td>12N1424</td>\n",
       "      <td>435232</td>\n",
       "      <td>427614</td>\n",
       "      <td>1</td>\n",
       "      <td>NaN</td>\n",
       "      <td>23/02/2014</td>\n",
       "      <td>Sunday</td>\n",
       "      <td>1840</td>\n",
       "      <td>Unclassified</td>\n",
       "      <td>Dry</td>\n",
       "      <td>Darkness no street lighting</td>\n",
       "      <td>Fine without high winds</td>\n",
       "      <td>Passenger</td>\n",
       "      <td>Serious</td>\n",
       "      <td>Male</td>\n",
       "      <td>19</td>\n",
       "      <td>Car</td>\n",
       "    </tr>\n",
       "    <tr>\n",
       "      <th>2</th>\n",
       "      <td>1380117</td>\n",
       "      <td>435678</td>\n",
       "      <td>440221</td>\n",
       "      <td>1</td>\n",
       "      <td>NaN</td>\n",
       "      <td>08/03/2014</td>\n",
       "      <td>Saturday</td>\n",
       "      <td>130</td>\n",
       "      <td>A</td>\n",
       "      <td>Dry</td>\n",
       "      <td>Darkness no street lighting</td>\n",
       "      <td>Fine without high winds</td>\n",
       "      <td>Driver</td>\n",
       "      <td>Serious</td>\n",
       "      <td>Male</td>\n",
       "      <td>21</td>\n",
       "      <td>Car</td>\n",
       "    </tr>\n",
       "    <tr>\n",
       "      <th>3</th>\n",
       "      <td>1370105</td>\n",
       "      <td>422649</td>\n",
       "      <td>440068</td>\n",
       "      <td>1</td>\n",
       "      <td>NaN</td>\n",
       "      <td>07/03/2014</td>\n",
       "      <td>Friday</td>\n",
       "      <td>235</td>\n",
       "      <td>Unclassified</td>\n",
       "      <td>Wet or Damp</td>\n",
       "      <td>Darkness no street lighting</td>\n",
       "      <td>Fine without high winds</td>\n",
       "      <td>Driver</td>\n",
       "      <td>Slight</td>\n",
       "      <td>Male</td>\n",
       "      <td>23</td>\n",
       "      <td>Car</td>\n",
       "    </tr>\n",
       "    <tr>\n",
       "      <th>4</th>\n",
       "      <td>140007543</td>\n",
       "      <td>441116</td>\n",
       "      <td>449118</td>\n",
       "      <td>2</td>\n",
       "      <td>NaN</td>\n",
       "      <td>07/01/2014</td>\n",
       "      <td>Tuesday</td>\n",
       "      <td>240</td>\n",
       "      <td>A(M)</td>\n",
       "      <td>Wet or Damp</td>\n",
       "      <td>Darkness no street lighting</td>\n",
       "      <td>Fine with high winds</td>\n",
       "      <td>Driver</td>\n",
       "      <td>Serious</td>\n",
       "      <td>Male</td>\n",
       "      <td>60</td>\n",
       "      <td>Goods vehicle 7.5 tonnes mgw and over</td>\n",
       "    </tr>\n",
       "    <tr>\n",
       "      <th>5</th>\n",
       "      <td>140007543</td>\n",
       "      <td>441116</td>\n",
       "      <td>449118</td>\n",
       "      <td>2</td>\n",
       "      <td>NaN</td>\n",
       "      <td>07/01/2014</td>\n",
       "      <td>Tuesday</td>\n",
       "      <td>240</td>\n",
       "      <td>A(M)</td>\n",
       "      <td>Wet or Damp</td>\n",
       "      <td>Darkness no street lighting</td>\n",
       "      <td>Fine with high winds</td>\n",
       "      <td>Driver</td>\n",
       "      <td>Serious</td>\n",
       "      <td>Male</td>\n",
       "      <td>41</td>\n",
       "      <td>Goods vehicle 7.5 tonnes mgw and over</td>\n",
       "    </tr>\n",
       "    <tr>\n",
       "      <th>6</th>\n",
       "      <td>140007543</td>\n",
       "      <td>441116</td>\n",
       "      <td>449118</td>\n",
       "      <td>2</td>\n",
       "      <td>NaN</td>\n",
       "      <td>07/01/2014</td>\n",
       "      <td>Tuesday</td>\n",
       "      <td>240</td>\n",
       "      <td>A(M)</td>\n",
       "      <td>Wet or Damp</td>\n",
       "      <td>Darkness no street lighting</td>\n",
       "      <td>Fine with high winds</td>\n",
       "      <td>Passenger</td>\n",
       "      <td>Slight</td>\n",
       "      <td>Male</td>\n",
       "      <td>61</td>\n",
       "      <td>Goods vehicle 7.5 tonnes mgw and over</td>\n",
       "    </tr>\n",
       "    <tr>\n",
       "      <th>7</th>\n",
       "      <td>140044738</td>\n",
       "      <td>426571</td>\n",
       "      <td>433921</td>\n",
       "      <td>2</td>\n",
       "      <td>NaN</td>\n",
       "      <td>01/02/2014</td>\n",
       "      <td>Saturday</td>\n",
       "      <td>1728</td>\n",
       "      <td>Unclassified</td>\n",
       "      <td>Wet or Damp</td>\n",
       "      <td>Darkness no street lighting</td>\n",
       "      <td>Other</td>\n",
       "      <td>Driver</td>\n",
       "      <td>Slight</td>\n",
       "      <td>Male</td>\n",
       "      <td>26</td>\n",
       "      <td>Pedal cycle</td>\n",
       "    </tr>\n",
       "    <tr>\n",
       "      <th>8</th>\n",
       "      <td>140222955</td>\n",
       "      <td>443107</td>\n",
       "      <td>440721</td>\n",
       "      <td>1</td>\n",
       "      <td>NaN</td>\n",
       "      <td>26/12/2014</td>\n",
       "      <td>Friday</td>\n",
       "      <td>2158</td>\n",
       "      <td>A(M)</td>\n",
       "      <td>Snow</td>\n",
       "      <td>Darkness no street lighting</td>\n",
       "      <td>Snowing without high winds</td>\n",
       "      <td>Driver</td>\n",
       "      <td>Slight</td>\n",
       "      <td>Male</td>\n",
       "      <td>23</td>\n",
       "      <td>Car</td>\n",
       "    </tr>\n",
       "    <tr>\n",
       "      <th>9</th>\n",
       "      <td>14A1433</td>\n",
       "      <td>432930</td>\n",
       "      <td>436036</td>\n",
       "      <td>1</td>\n",
       "      <td>NaN</td>\n",
       "      <td>10/04/2014</td>\n",
       "      <td>Thursday</td>\n",
       "      <td>1840</td>\n",
       "      <td>A</td>\n",
       "      <td>Dry</td>\n",
       "      <td>Darkness no street lighting</td>\n",
       "      <td>Fine without high winds</td>\n",
       "      <td>Pedestrian</td>\n",
       "      <td>Slight</td>\n",
       "      <td>Male</td>\n",
       "      <td>7</td>\n",
       "      <td>Car</td>\n",
       "    </tr>\n",
       "  </tbody>\n",
       "</table>\n",
       "</div>"
      ],
      "text/plain": [
       "  Reference Number  Grid Ref: Easting  Grid Ref: Northing  Number of Vehicles  \\\n",
       "0          12N1424             435232              427614                   1   \n",
       "1          12N1424             435232              427614                   1   \n",
       "2          1380117             435678              440221                   1   \n",
       "3          1370105             422649              440068                   1   \n",
       "4        140007543             441116              449118                   2   \n",
       "5        140007543             441116              449118                   2   \n",
       "6        140007543             441116              449118                   2   \n",
       "7        140044738             426571              433921                   2   \n",
       "8        140222955             443107              440721                   1   \n",
       "9          14A1433             432930              436036                   1   \n",
       "\n",
       "  Expr1 Accident Date       Day  Time (24hr) 1st Road Class Road Surface  \\\n",
       "0   NaN    23/02/2014    Sunday         1840   Unclassified          Dry   \n",
       "1   NaN    23/02/2014    Sunday         1840   Unclassified          Dry   \n",
       "2   NaN    08/03/2014  Saturday          130              A          Dry   \n",
       "3   NaN    07/03/2014    Friday          235   Unclassified  Wet or Damp   \n",
       "4   NaN    07/01/2014   Tuesday          240           A(M)  Wet or Damp   \n",
       "5   NaN    07/01/2014   Tuesday          240           A(M)  Wet or Damp   \n",
       "6   NaN    07/01/2014   Tuesday          240           A(M)  Wet or Damp   \n",
       "7   NaN    01/02/2014  Saturday         1728   Unclassified  Wet or Damp   \n",
       "8   NaN    26/12/2014    Friday         2158           A(M)         Snow   \n",
       "9   NaN    10/04/2014  Thursday         1840              A          Dry   \n",
       "\n",
       "           Lighting Conditions          Weather Conditions Casualty Class  \\\n",
       "0  Darkness no street lighting     Fine without high winds         Driver   \n",
       "1  Darkness no street lighting     Fine without high winds      Passenger   \n",
       "2  Darkness no street lighting     Fine without high winds         Driver   \n",
       "3  Darkness no street lighting     Fine without high winds         Driver   \n",
       "4  Darkness no street lighting        Fine with high winds         Driver   \n",
       "5  Darkness no street lighting        Fine with high winds         Driver   \n",
       "6  Darkness no street lighting        Fine with high winds      Passenger   \n",
       "7  Darkness no street lighting                       Other         Driver   \n",
       "8  Darkness no street lighting  Snowing without high winds         Driver   \n",
       "9  Darkness no street lighting     Fine without high winds     Pedestrian   \n",
       "\n",
       "  Casualty Severity Sex of Casualty  Age of Casualty  \\\n",
       "0           Serious            Male               19   \n",
       "1           Serious            Male               19   \n",
       "2           Serious            Male               21   \n",
       "3            Slight            Male               23   \n",
       "4           Serious            Male               60   \n",
       "5           Serious            Male               41   \n",
       "6            Slight            Male               61   \n",
       "7            Slight            Male               26   \n",
       "8            Slight            Male               23   \n",
       "9            Slight            Male                7   \n",
       "\n",
       "                         Type of Vehicle  \n",
       "0                                    Car  \n",
       "1                                    Car  \n",
       "2                                    Car  \n",
       "3                                    Car  \n",
       "4  Goods vehicle 7.5 tonnes mgw and over  \n",
       "5  Goods vehicle 7.5 tonnes mgw and over  \n",
       "6  Goods vehicle 7.5 tonnes mgw and over  \n",
       "7                            Pedal cycle  \n",
       "8                                    Car  \n",
       "9                                    Car  "
      ]
     },
     "execution_count": 22,
     "metadata": {},
     "output_type": "execute_result"
    }
   ],
   "source": [
    "#loading dataset and concating them\n",
    "df1=pd.read_csv('https://raw.githubusercontent.com/LIZABelkacem/Road_Accident_Prediction/master/data/2014%20excel.csv')\n",
    "df2=pd.read_csv('https://raw.githubusercontent.com/LIZABelkacem/Road_Accident_Prediction/master/data/2015%20excel.csv')\n",
    "df3=pd.read_csv('https://raw.githubusercontent.com/LIZABelkacem/Road_Accident_Prediction/master/data/2016%20excel.csv')\n",
    "frames = [df1, df2, df3]\n",
    "result = pd.concat(frames, axis=0)\n",
    "result.head(10)"
   ]
  },
  {
   "cell_type": "code",
   "execution_count": null,
   "metadata": {},
   "outputs": [],
   "source": [
    "#There are unnecessary columns and there are columns with missing values\n",
    "# it is important to delete them and process our data before using them"
   ]
  },
  {
   "cell_type": "code",
   "execution_count": 23,
   "metadata": {},
   "outputs": [],
   "source": [
    "# removing unnecessary columns\n",
    "result= result.drop(['Grid Ref: Northing','Grid Ref: Easting','Reference Number','Expr1','Accident Date','Lighting Conditions','1st Road Class'],axis=1)\n",
    "#delete columns with missing values\n",
    "result= result.dropna(axis=0)"
   ]
  },
  {
   "cell_type": "code",
   "execution_count": 24,
   "metadata": {},
   "outputs": [],
   "source": [
    "# Create lists for values other than float or int\n",
    "# list objects for further processing\n",
    "#this is supposed to be manual task\n",
    "list1=['Monday','Tuesday','Wednesday','Thursday']\n",
    "list2=['Friday','Saturday','Sunday']\n",
    "list3=['Fine without high winds','Fine with high winds']\n",
    "list4=['Snowing without high winds','Snowing with high winds']\n",
    "list5=['Raining without high winds','Raining with high winds']\n",
    "list6=['Fog or mist']\n",
    "list7=['Minibus (8 to 16 passenger seats)','Bus or coach (17 or more passenger seats)']\n",
    "list8=['Goods vehicle 3.5 tonnes mgw and under','Goods vehicle over 3.5 tonnes and under 7.5 tonnes mgw','goods','Goods vehicle over 3.5 tonnes and under 7.5 tonnes mgw']\n",
    "list9=['Motorcycle over 50cc and up to 125cc','Motorcycle over 125cc and up to 500cc','M cycle 50cc and under','Motorcycle over 500cc','Motorcycle Unknown CC']\n",
    "list10=['Car','Taxi or Private hire car']\n",
    "list11=['Driver', 'Driver ']\n",
    "list12=['Pedestrian']"
   ]
  },
  {
   "cell_type": "code",
   "execution_count": 25,
   "metadata": {},
   "outputs": [],
   "source": [
    "#convert the 'Day' function\n",
    "def b(row):\n",
    "    if row['Day']in list1:\n",
    "        val='weekday'\n",
    "    elif row['Day']in list2:\n",
    "        val='weekend'\n",
    "    return val\n",
    "result['Day'] = result.apply(b, axis=1)\n",
    "#convert the weather condtion function\n",
    "def e(row):\n",
    "    if row['Weather Conditions']in list3:\n",
    "        val='fine'\n",
    "    elif row['Weather Conditions']in list4:\n",
    "        val='snowing'\n",
    "    elif row['Weather Conditions']in list5:\n",
    "        val='raining'\n",
    "    elif row['Weather Conditions']in list6:\n",
    "        val='fog'\n",
    "    else: \n",
    "        val='other'   \n",
    "    return val\n",
    "result['Weather Conditions'] = result.apply(e, axis=1)\n",
    "\n",
    "\n",
    "#conversion of type of vehicles\n",
    "\n",
    "def j(row):\n",
    "    if row['Type of Vehicle']in list7:\n",
    "        val='bus'\n",
    "    elif row['Type of Vehicle']in list8:\n",
    "        val='goods vehicle'\n",
    "    elif row['Type of Vehicle']in list9:\n",
    "        val='motorcycle'\n",
    "    elif row['Type of Vehicle']in list10:\n",
    "        val='car'\n",
    "    else: \n",
    "        val='other'\n",
    "    return val\n",
    "result['Type of Vehicle'] = result.apply(j, axis=1)\n",
    "\n",
    "#converting 'Time (24hr)\n",
    "def c(row):\n",
    "    if 600< row['Time (24hr)'] <= 1801:\n",
    "        val='Day-time'\n",
    "    else:\n",
    "        val='Night-time'\n",
    "    return val\n",
    "result['Time (24hr)'] = result.apply(c, axis=1)\n",
    "\n",
    "#conversion of the casualty class\n",
    "def a(row):\n",
    "    if row['Casualty Class']in list11:\n",
    "        val='Driver'\n",
    "    elif row['Casualty Class']in list12:\n",
    "        val='Pedestrian'\n",
    "    else: \n",
    "        val='Passenger'\n",
    "    return val\n",
    "result['Casualty Class'] = result.apply(a, axis=1)\n",
    "\n",
    "\n",
    "# creation of dummy variables for category variables\n",
    "\n",
    "result=pd.get_dummies(result,columns=['Day','Time (24hr)','Road Surface','Weather Conditions','Casualty Class','Sex of Casualty','Type of Vehicle'])\n",
    "\n",
    "# process columns containing the same information\n",
    "result = result.drop(['Day_weekday', 'Time (24hr)_Day-time', 'Sex of Casualty_Female'] , axis=1)"
   ]
  },
  {
   "cell_type": "markdown",
   "metadata": {},
   "source": [
    "RESAMPLING"
   ]
  },
  {
   "cell_type": "code",
   "execution_count": 26,
   "metadata": {},
   "outputs": [
    {
     "data": {
      "text/plain": [
       "Slight     6739\n",
       "Serious     957\n",
       "Fatal        48\n",
       "Name: Casualty Severity, dtype: int64"
      ]
     },
     "execution_count": 26,
     "metadata": {},
     "output_type": "execute_result"
    }
   ],
   "source": [
    "result['Casualty Severity'].value_counts()"
   ]
  },
  {
   "cell_type": "code",
   "execution_count": 27,
   "metadata": {},
   "outputs": [],
   "source": [
    "seed=12345\n",
    "np.random.seed(seed)"
   ]
  },
  {
   "cell_type": "code",
   "execution_count": 28,
   "metadata": {},
   "outputs": [],
   "source": [
    "# division of the data set in two: variables dependent on X and variable dependent on y\n",
    "X = result.drop('Casualty Severity', axis=1)\n",
    "y = result['Casualty Severity']"
   ]
  },
  {
   "cell_type": "code",
   "execution_count": 29,
   "metadata": {},
   "outputs": [
    {
     "data": {
      "text/plain": [
       "Slight     957\n",
       "Serious    957\n",
       "Fatal       48\n",
       "Name: Casualty Severity, dtype: int64"
      ]
     },
     "execution_count": 29,
     "metadata": {},
     "output_type": "execute_result"
    }
   ],
   "source": [
    "# oversampling from class 'Fatal' to class 'Serious'\n",
    "array = ['Slight', 'Serious']\n",
    "result_a=result.loc[result['Casualty Severity'].isin(array)]\n",
    "X_a = result_a.drop('Casualty Severity', axis=1)\n",
    "y_a = result_a['Casualty Severity']\n",
    "sm = RandomUnderSampler()\n",
    "X_a, y_a = sm.fit_sample(X_a, y_a)\n",
    "label = list(X)\n",
    "X_a=pd.DataFrame(data = X_a, columns = label)\n",
    "y_a=pd.DataFrame(data = y_a, columns = ['Casualty Severity'])\n",
    "result_b=pd.merge(y_a,X_a,right_index=True, left_index=True)\n",
    "result_c=result.loc[result['Casualty Severity']=='Fatal']\n",
    "cols=list(result_b)\n",
    "result_c=result_c[cols]\n",
    "result_d=pd.concat([result_b,result_c])\n",
    "result_d['Casualty Severity'].value_counts()"
   ]
  },
  {
   "cell_type": "code",
   "execution_count": 30,
   "metadata": {},
   "outputs": [
    {
     "data": {
      "text/plain": [
       "Slight     957\n",
       "Fatal      957\n",
       "Serious    957\n",
       "Name: Casualty Severity, dtype: int64"
      ]
     },
     "execution_count": 30,
     "metadata": {},
     "output_type": "execute_result"
    }
   ],
   "source": [
    "#over sampling of three classes\n",
    "array = ['Fatal', 'Serious']\n",
    "result_e=result_d.loc[result_d['Casualty Severity'].isin(array)]\n",
    "X_e = result_e.drop('Casualty Severity', axis=1)\n",
    "y_e = result_e['Casualty Severity']\n",
    "sm = SMOTE()\n",
    "X_e, y_e = sm.fit_sample(X_e, y_e)\n",
    "X_d = result_d.drop('Casualty Severity', axis=1)\n",
    "label = list(X_d)\n",
    "X_e=pd.DataFrame(data = X_e, columns = label)\n",
    "y_e=pd.DataFrame(data = y_e, columns = ['Casualty Severity'])\n",
    "result_f=pd.merge(y_e,X_e,right_index=True, left_index=True)\n",
    "result_g=result_d.loc[result_d['Casualty Severity']=='Slight']\n",
    "cols=list(result_f)\n",
    "result_g=result_g[cols]\n",
    "result_h=pd.concat([result_f,result_g])\n",
    "result_h['Casualty Severity'].value_counts()"
   ]
  },
  {
   "cell_type": "code",
   "execution_count": 31,
   "metadata": {},
   "outputs": [],
   "source": [
    "#dividing the dataset into two: variables independent of X and variable dependent on y\n",
    "X = result_h.drop('Casualty Severity', axis=1)\n",
    "y = result_h['Casualty Severity']\n",
    "result=result_h"
   ]
  },
  {
   "cell_type": "markdown",
   "metadata": {},
   "source": [
    "STANDARDIZATION AT PCA"
   ]
  },
  {
   "cell_type": "code",
   "execution_count": 32,
   "metadata": {},
   "outputs": [],
   "source": [
    "#implementation\n",
    "stdsc = StandardScaler()\n",
    "X_1 = stdsc.fit_transform(X)"
   ]
  },
  {
   "cell_type": "code",
   "execution_count": 33,
   "metadata": {},
   "outputs": [
    {
     "data": {
      "image/png": "[encoded data removed]",
      "text/plain": [
       "<Figure size 432x288 with 1 Axes>"
      ]
     },
     "metadata": {
      "needs_background": "light"
     },
     "output_type": "display_data"
    }
   ],
   "source": [
    "#no of components plot\n",
    "pca = PCA().fit(X_1.data)\n",
    "plt.plot(np.cumsum(pca.explained_variance_ratio_))\n",
    "plt.xlabel('number of components')\n",
    "plt.ylabel('cumulative explained variance')\n",
    "plt.show()"
   ]
  },
  {
   "cell_type": "code",
   "execution_count": 34,
   "metadata": {},
   "outputs": [],
   "source": [
    "# according to the graph the first 12 components contain approximately 90% of the variance\n",
    "pca = PCA(n_components=12)\n",
    "X_2 = pca.fit_transform(X_1)"
   ]
  },
  {
   "cell_type": "markdown",
   "metadata": {},
   "source": [
    "DECSION TREE"
   ]
  },
  {
   "cell_type": "code",
   "execution_count": 35,
   "metadata": {},
   "outputs": [
    {
     "name": "stdout",
     "output_type": "stream",
     "text": [
      "45.733280100658156\n",
      "51.89907568718544\n",
      "61.58318815331011\n",
      "65.23978900503292\n",
      "69.03600464576074\n",
      "70.28951316298877\n",
      "71.8569734804491\n",
      "71.64767228029423\n",
      "72.23976480836237\n",
      "71.99610433604336\n",
      "72.51899438637244\n",
      "72.06627468060395\n",
      "71.8569734804491\n",
      "71.57871176926055\n",
      "71.09090689121177\n",
      "70.32447735191637\n",
      "69.9066008517228\n",
      "69.76759097948121\n",
      "69.73226384049556\n",
      "69.76698606271776\n",
      "69.59289101819589\n",
      "69.20949477351917\n",
      "69.20937379016647\n",
      "69.34874661246612\n",
      "69.10508614014711\n",
      "69.2789392179636\n",
      "69.17440960123885\n",
      "69.24421699574138\n",
      "69.13968737901664\n",
      "69.10484417344173\n",
      "69.10472319008903\n",
      "69.10472319008903\n",
      "69.10472319008903\n",
      "69.10472319008903\n",
      "69.10472319008903\n",
      "69.10472319008903\n",
      "69.10472319008903\n",
      "69.10472319008903\n",
      "69.10472319008903\n"
     ]
    },
    {
     "data": {
      "image/png": "[encoded data removed]",
      "text/plain": [
       "<Figure size 432x288 with 1 Axes>"
      ]
     },
     "metadata": {
      "needs_background": "light"
     },
     "output_type": "display_data"
    }
   ],
   "source": [
    "# search for the depth of the tree which returns the best precision of the model\n",
    "for i in range(1,40):\n",
    "    tree = DecisionTreeClassifier(criterion='gini',max_depth=i ,random_state=1)  \n",
    "    tree .fit(X, y) \n",
    "    y_pred =tree .predict(X)\n",
    "    kfold = KFold(n_splits=10, shuffle=True, random_state=seed)\n",
    "    score = cross_val_score(tree, X, y, cv=kfold)\n",
    "    mean=score.mean()*100\n",
    "    plt.scatter(i, mean)\n",
    "    print(mean)\n",
    "plt.show()"
   ]
  },
  {
   "cell_type": "code",
   "execution_count": null,
   "metadata": {},
   "outputs": [],
   "source": [
    "# According to the graph we see that the max_depth = 6 "
   ]
  },
  {
   "cell_type": "code",
   "execution_count": 36,
   "metadata": {},
   "outputs": [
    {
     "name": "stdout",
     "output_type": "stream",
     "text": [
      "mean accuracy 70.29% (standard deviation 3.41%)\n"
     ]
    }
   ],
   "source": [
    "tree = DecisionTreeClassifier(criterion='gini',max_depth=6,random_state=1)  \n",
    "tree.fit(X, y) \n",
    "y_pred=tree.predict(X)\n",
    "\n",
    "\n",
    "kfold = KFold(n_splits=10, shuffle=True, random_state=seed)\n",
    "\n",
    "#cross validation\n",
    "score = cross_val_score(tree, X, y, cv=kfold)\n",
    "print(\"mean accuracy %.2f%% (standard deviation %.2f%%)\" % (score.mean()*100, score.std()*100))\n"
   ]
  },
  {
   "cell_type": "code",
   "execution_count": 37,
   "metadata": {},
   "outputs": [
    {
     "name": "stdout",
     "output_type": "stream",
     "text": [
      "The 3 most important features in decision tree model are: ['Road Surface_Wet or Damp', 'Road Surface_Dry', 'Age of Casualty']\n"
     ]
    }
   ],
   "source": [
    "#main answer is here\n",
    "importance = tree.feature_importances_\n",
    "column_names = X.columns.values.tolist()\n",
    "importances = dict(zip(importance, column_names))\n",
    "\n",
    "important_features = []\n",
    "\n",
    "for ii in range(len(importance)):\n",
    "    if ii < 3:\n",
    "        important_features.append(importances[sorted(importance, reverse = True)[ii]])\n",
    "        \n",
    "print('The 3 most important features in decision tree model are: '+str(important_features))"
   ]
  },
  {
   "cell_type": "markdown",
   "metadata": {},
   "source": [
    "RANDOM FOREST IMPLEMENTATION"
   ]
  },
  {
   "cell_type": "code",
   "execution_count": 38,
   "metadata": {},
   "outputs": [],
   "source": [
    "y_forest=np.where(y=='Slight',0,np.where(y=='Serious',1,2))\n",
    "y_forest=pd.DataFrame(data = y_forest, columns = ['Casualty Severity'])"
   ]
  },
  {
   "cell_type": "markdown",
   "metadata": {},
   "source": [
    "KNN IMPLEMENTAITON"
   ]
  },
  {
   "cell_type": "code",
   "execution_count": 40,
   "metadata": {},
   "outputs": [
    {
     "name": "stdout",
     "output_type": "stream",
     "text": [
      "68.58195412311268\n",
      "68.58207510646534\n",
      "71.47394018583043\n",
      "72.13511420828495\n",
      "72.83282520325203\n",
      "73.00631533101046\n",
      "72.27497096399536\n",
      "72.97123015873015\n",
      "72.55274874177313\n",
      "72.79665118079753\n",
      "72.86657955865273\n",
      "72.65739934185056\n",
      "72.90190669763842\n",
      "72.97123015873017\n",
      "72.93650793650794\n",
      "73.07563879210221\n",
      "72.37877468060395\n",
      "72.30933023615951\n",
      "71.99549941927991\n",
      "71.78680313588849\n",
      "71.47345625241968\n",
      "71.22955381339528\n",
      "71.22967479674797\n",
      "71.0555797522261\n",
      "71.05582171893148\n",
      "71.36928958575301\n",
      "71.09090689121177\n",
      "70.95117111885403\n",
      "70.91669086333721\n",
      "70.84664150212929\n",
      "70.60261807975223\n",
      "70.70726867982967\n",
      "70.5328106852497\n",
      "70.56789585753\n",
      "70.28878726287263\n",
      "70.2192218350755\n",
      "70.39307491289199\n",
      "70.32350948509485\n",
      "70.18425764614788\n"
     ]
    },
    {
     "data": {
      "image/png": "[encoded data removed]",
      "text/plain": [
       "<Figure size 432x288 with 1 Axes>"
      ]
     },
     "metadata": {
      "needs_background": "light"
     },
     "output_type": "display_data"
    }
   ],
   "source": [
    "for i in range(1,40):\n",
    "    knn = KNeighborsClassifier(n_neighbors=i, p=2,\n",
    "                               metric='minkowski')\n",
    "    knn.fit(X_2, y)\n",
    "    results3 = cross_val_score(knn, X_2, y, cv=kfold)\n",
    "    mean=results3.mean()*100\n",
    "    plt.scatter(i, mean)\n",
    "    print(mean)\n",
    "plt.show()"
   ]
  },
  {
   "cell_type": "code",
   "execution_count": 41,
   "metadata": {},
   "outputs": [
    {
     "name": "stdout",
     "output_type": "stream",
     "text": [
      "mean accuracy 72.83% (standard deviation 2.67%)\n"
     ]
    }
   ],
   "source": [
    "knn = KNeighborsClassifier(n_neighbors=5, p=2,\n",
    "                               metric='minkowski')\n",
    "knn.fit(X_2, y)\n",
    "\n",
    "#cross validation\n",
    "results3 = cross_val_score(knn, X_2, y, cv=kfold)\n",
    "\n",
    "print(\"mean accuracy %.2f%% (standard deviation %.2f%%)\" % (results3.mean()*100, results3.std()*100))"
   ]
  },
  {
   "cell_type": "code",
   "execution_count": 42,
   "metadata": {},
   "outputs": [
    {
     "name": "stdout",
     "output_type": "stream",
     "text": [
      "mean accuracy 57.82% (standard deviation 2.51%)\n"
     ]
    }
   ],
   "source": [
    "lr = LogisticRegression(C=100, random_state=1)\n",
    "\n",
    "\n",
    "#le terme C est directement lié au paramètre de régularisation λ\n",
    "\n",
    "\n",
    "lr.fit(X_2, y)\n",
    "\n",
    "#cross validation\n",
    "results1 = cross_val_score(lr, X_2, y, cv=kfold)\n",
    "print(\"mean accuracy %.2f%% (standard deviation %.2f%%)\" % (results1.mean()*100, results1.std()*100))"
   ]
  },
  {
   "cell_type": "code",
   "execution_count": 43,
   "metadata": {},
   "outputs": [],
   "source": [
    "X_3 = X.drop(['Road Surface_Dry', 'Weather Conditions_fine', 'Casualty Class_Driver', 'Type of Vehicle_other'], axis=1)"
   ]
  },
  {
   "cell_type": "code",
   "execution_count": 44,
   "metadata": {
    "scrolled": true
   },
   "outputs": [
    {
     "data": {
      "image/png": "[encoded data removed]",
      "text/plain": [
       "<Figure size 1080x1080 with 2 Axes>"
      ]
     },
     "metadata": {
      "needs_background": "light"
     },
     "output_type": "display_data"
    }
   ],
   "source": [
    "f, ax = plt.subplots(figsize=(15, 15))\n",
    "corr = X_3.corr()\n",
    "sns.heatmap(corr, mask=np.zeros_like(corr, dtype=np.bool), cmap=sns.diverging_palette(220, 10, as_cmap=True),\n",
    "            square=True, ax=ax)\n",
    "plt.show()"
   ]
  },
  {
   "cell_type": "code",
   "execution_count": 45,
   "metadata": {},
   "outputs": [],
   "source": [
    "X_4 = X_3.drop(['Weather Conditions_other',\n",
    " 'Weather Conditions_raining',\n",
    " 'Weather Conditions_snowing'], axis=1)"
   ]
  },
  {
   "cell_type": "code",
   "execution_count": 46,
   "metadata": {},
   "outputs": [
    {
     "data": {
      "image/png": "[encoded data removed]",
      "text/plain": [
       "<Figure size 1080x1080 with 2 Axes>"
      ]
     },
     "metadata": {
      "needs_background": "light"
     },
     "output_type": "display_data"
    }
   ],
   "source": [
    "f, ax = plt.subplots(figsize=(15, 15))\n",
    "corr = X_4.corr()\n",
    "sns.heatmap(corr, mask=np.zeros_like(corr, dtype=np.bool), cmap=sns.diverging_palette(220, 10, as_cmap=True),\n",
    "            square=True, ax=ax)\n",
    "plt.show()\n"
   ]
  },
  {
   "cell_type": "code",
   "execution_count": 47,
   "metadata": {},
   "outputs": [
    {
     "name": "stdout",
     "output_type": "stream",
     "text": [
      "mean accuracy 61.13% (standard deviation 2.93%)\n"
     ]
    }
   ],
   "source": [
    "r = LogisticRegression(C=100, random_state=1)\n",
    "#the term C is directly related to the regularization parameter λ\n",
    "lr.fit(X_4, y)\n",
    "\n",
    "#cross validation\n",
    "results2 = cross_val_score(lr, X_4, y, cv=kfold)\n",
    "print(\"mean accuracy %.2f%% (standard deviation %.2f%%)\" % (results2.mean()*100, results2.std()*100))"
   ]
  },
  {
   "cell_type": "code",
   "execution_count": 48,
   "metadata": {},
   "outputs": [
    {
     "data": {
      "text/html": [
       "<table>\n",
       "<thead>\n",
       "<tr><th style=\"text-align: right;\">  Number of Vehicles</th><th style=\"text-align: right;\">  Age of Casualty</th><th style=\"text-align: right;\">  Day_weekend</th><th style=\"text-align: right;\">  Time (24hr)_Night-time</th><th style=\"text-align: right;\">  Road Surface_Flood (surface water over 3cm deep)</th><th style=\"text-align: right;\">  Road Surface_Frost or Ice</th><th style=\"text-align: right;\">  Road Surface_Snow</th><th style=\"text-align: right;\">  Road Surface_Wet or Damp</th><th style=\"text-align: right;\">  Casualty Class_Passenger</th><th style=\"text-align: right;\">  Casualty Class_Pedestrian</th><th style=\"text-align: right;\">  Sex of Casualty_Male</th><th style=\"text-align: right;\">  Type of Vehicle_bus</th><th style=\"text-align: right;\">  Type of Vehicle_car</th><th style=\"text-align: right;\">  Type of Vehicle_goods vehicle</th><th style=\"text-align: right;\">  Type of Vehicle_motorcycle</th></tr>\n",
       "</thead>\n",
       "<tbody>\n",
       "<tr><td style=\"text-align: right;\">            -2.16406</td><td style=\"text-align: right;\">        0.0130071</td><td style=\"text-align: right;\">    -0.925926</td><td style=\"text-align: right;\">               0.0444908</td><td style=\"text-align: right;\">                                           -2.5605</td><td style=\"text-align: right;\">                    -3.7458</td><td style=\"text-align: right;\">           -2.43169</td><td style=\"text-align: right;\">                 -0.210332</td><td style=\"text-align: right;\">                  -1.10067</td><td style=\"text-align: right;\">                   -2.26692</td><td style=\"text-align: right;\">            -0.0884996</td><td style=\"text-align: right;\">             -4.05351</td><td style=\"text-align: right;\">            -0.785586</td><td style=\"text-align: right;\">                       -3.53136</td><td style=\"text-align: right;\">                    -1.63067</td></tr>\n",
       "</tbody>\n",
       "</table>"
      ],
      "text/plain": [
       "<IPython.core.display.HTML object>"
      ]
     },
     "metadata": {},
     "output_type": "display_data"
    }
   ],
   "source": [
    "coef = lr.coef_[0]\n",
    "table = [coef]\n",
    "display(HTML(tabulate.tabulate(table, headers=list(X_4), tablefmt='html')))"
   ]
  },
  {
   "cell_type": "code",
   "execution_count": 49,
   "metadata": {},
   "outputs": [
    {
     "data": {
      "text/html": [
       "<table>\n",
       "<thead>\n",
       "<tr><th>Algorithm                      </th><th style=\"text-align: right;\">  Mean Accuracy</th><th style=\"text-align: right;\">  Standard Deviation</th></tr>\n",
       "</thead>\n",
       "<tbody>\n",
       "<tr><td>Decision Tree                  </td><td style=\"text-align: right;\">          70.29</td><td style=\"text-align: right;\">                3.41</td></tr>\n",
       "<tr><td>Random Forest                  </td><td style=\"text-align: right;\">          64.83</td><td style=\"text-align: right;\">                4.83</td></tr>\n",
       "<tr><td>KNN                            </td><td style=\"text-align: right;\">          72.83</td><td style=\"text-align: right;\">                2.67</td></tr>\n",
       "<tr><td>Logistic Regression with PCA   </td><td style=\"text-align: right;\">          57.82</td><td style=\"text-align: right;\">                2.51</td></tr>\n",
       "<tr><td>Logistic Regression without PCA</td><td style=\"text-align: right;\">          61.13</td><td style=\"text-align: right;\">                2.93</td></tr>\n",
       "</tbody>\n",
       "</table>"
      ],
      "text/plain": [
       "<IPython.core.display.HTML object>"
      ]
     },
     "metadata": {},
     "output_type": "display_data"
    }
   ],
   "source": [
    "table = [[\"Decision Tree\",round(score.mean()*100,2),round(score.std()*100,2)],\n",
    "         [\"Random Forest\",round(score1.mean()*100,2),round(score1.std()*100,2)],\n",
    "         \n",
    "         [\"KNN\",round(results3.mean()*100,2) , round(results3.std()*100,2)],\n",
    "         [\"Logistic Regression with PCA\", round(results1.mean()*100,2) , round(results1.std()*100,2)],\n",
    "         [\"Logistic Regression without PCA\", round(results2.mean()*100,2) , round(results2.std()*100,2)]]\n",
    "display(HTML(tabulate.tabulate(table, headers=[\"Algorithm\",\"Mean Accuracy\", \"Standard Deviation\"], tablefmt='html')))"
   ]
  },
  {
   "cell_type": "code",
   "execution_count": null,
   "metadata": {},
   "outputs": [],
   "source": []
  }
 ],
 "metadata": {
  "kernelspec": {
   "display_name": "Python 3",
   "language": "python",
   "name": "python3"
  },
  "language_info": {
   "codemirror_mode": {
    "name": "ipython",
    "version": 3
   },
   "file_extension": ".py",
   "mimetype": "text/x-python",
   "name": "python",
   "nbconvert_exporter": "python",
   "pygments_lexer": "ipython3",
   "version": "3.7.3"
  }
 },
 "nbformat": 4,
 "nbformat_minor": 2
}
